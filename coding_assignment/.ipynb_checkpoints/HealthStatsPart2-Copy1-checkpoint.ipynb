{
 "cells": [
  {
   "cell_type": "markdown",
   "metadata": {},
   "source": [
    "# Health Stats Part 1: Waist 2 Hip Ratios"
   ]
  },
  {
   "cell_type": "markdown",
   "metadata": {},
   "source": [
    "<!--- Write an explanation of the Waist To Hips Ratio statistic used by health professionals. Please include an explanation of what it is used for, exactly how it is calculated, and how to interpret the results. Note: Formmatting matters. Make this as professional as you can using Markdown.  --->\n",
    "\n",
    "<!--- feel free to use any web resources, including [Wikipedia](https://en.wikipedia.org/wiki/Waist%E2%80%93hip_ratio) or any other resources that you can find online. Just MAKE SURE you provide a link to every resource you decide to use. --->\n",
    "\n",
    "<!--- Including the formula, or that fancy diagram/table you see on wikipedia is DEFINITELY a good idea! How? The LaTeX equations section in [This link](https://jupyter-notebook.readthedocs.io/en/stable/examples/Notebook/Working%20With%20Markdown%20Cells.html) might help. --->\n",
    "\n",
    "<!--- For extra points, try to create a table similar to the one on the wikipedia page on your own. --->\n",
    "\n",
    "__EDIT THIS MARKDOWN CELL__"
   ]
  },
  {
   "cell_type": "markdown",
   "metadata": {},
   "source": [
    "## Source Data "
   ]
  },
  {
   "cell_type": "markdown",
   "metadata": {},
   "source": [
    "<!--- Replace the text below with a Markdown bullet list that defines the columns of the CSV file. Be sure to indicate the data type for each column. --->\n",
    "\n",
    "<!--- Example can be: ID, unique identifier of each person, integer. Remember you need to put this into a bullet list! How? [This link](https://jupyter-notebook.readthedocs.io/en/stable/examples/Notebook/Working%20With%20Markdown%20Cells.html) might help. --->\n",
    "\n",
    "<!--- These two markdown cells are required in almost any analytical report. --->\n",
    "\n",
    "__EDIT THIS MARKDOWN CELL__\n",
    "\n",
    "W2H Ratio\n",
    "- point1\n",
    "- point2\n",
    "\n",
    "<img src = 'https://upload.wikimedia.org/wikipedia/commons/3/34/Abdominal_obesity_in_men.jpg' />\n",
    "\n",
    "| header1 | header2 |\n",
    "| ------- | ------- |\n",
    "| cell1 | cell 2 |\n",
    "\n",
    "$ ratio_{w2h} = \\frac{w}{h} $"
   ]
  },
  {
   "cell_type": "markdown",
   "metadata": {},
   "source": [
    "## Data Import"
   ]
  },
  {
   "cell_type": "code",
   "execution_count": 15,
   "metadata": {
    "collapsed": true
   },
   "outputs": [],
   "source": [
    "# Goal: Extract the data from the file\n",
    "\n",
    "# opens the w2h_data.csv for reading\n",
    "f = open(\"w2h_data.csv\", \"r\")\n",
    "\n",
    "# loads the file into a list of strings, one string per line\n",
    "raw_lines = list(f)\n",
    "\n",
    "# closes the file\n",
    "f.close()"
   ]
  },
  {
   "cell_type": "code",
   "execution_count": 40,
   "metadata": {
    "collapsed": true
   },
   "outputs": [
    {
     "name": "stdout",
     "output_type": "stream",
     "text": [
      "[['1', 30, 32, 'M'], ['2', 32, 37, 'M'], ['3', 30, 36, 'M'], ['4', 33, 39, 'M'], ['5', 29, 33, 'M'], ['6', 32, 38, 'M'], ['7', 33, 42, 'M'], ['8', 30, 40, 'M'], ['9', 30, 37, 'M'], ['10', 32, 39, 'M'], ['11', 24, 35, 'F'], ['12', 25, 37, 'F'], ['13', 24, 37, 'F'], ['14', 22, 34, 'F'], ['15', 26, 38, 'F'], ['16', 26, 37, 'F'], ['17', 25, 38, 'F'], ['18', 26, 37, 'F'], ['19', 28, 40, 'F'], ['20', 23, 35, 'F']]\n"
     ]
    }
   ],
   "source": [
    "# Goal: Scrub and convert the data, loading it into a new list called rows\n",
    "\n",
    "# Strips out newline '\\n' characters and converts to a list\n",
    "raw_rows = [r.rstrip('\\n').split(',') for r in raw_lines] # <--- Whoa. Why does this work? \n",
    "\n",
    "# Creates a new list, starting with just the column names\n",
    "rows = list() \n",
    "\n",
    "# The first row is the keys with the column names\n",
    "keys = raw_rows[0];\n",
    "\n",
    "# Convert each row_row, starting with the second\n",
    "for raw_row in raw_rows[1:]:\n",
    "    \n",
    "    # Note: the values in the raw_row list are all strings.\n",
    "    # Create a new list called row that converts each item in raw_row to the right data type \n",
    "    \n",
    "    row = [str((raw_row[0])),int((raw_row[1])),int((raw_row[2])),raw_row[3]] \n",
    "    \n",
    "    # structure the row as a dict  <-- FIX THIS: Write your code below\n",
    "    \n",
    "    \n",
    "    # Append the new row to the rows list as a dictionary <-- FIX THIS: Write your code below\n",
    "    rows.append(row)\n",
    "    \n",
    "    \n",
    "# from here on out use the rows list instead of raw_rows or raw_lines\n",
    "print(rows)"
   ]
  },
  {
   "cell_type": "code",
   "execution_count": null,
   "metadata": {},
   "outputs": [],
   "source": []
  },
  {
   "cell_type": "code",
   "execution_count": 41,
   "metadata": {},
   "outputs": [
    {
     "data": {
      "text/plain": [
       "['1',\n",
       " '2',\n",
       " '3',\n",
       " '4',\n",
       " '5',\n",
       " '6',\n",
       " '7',\n",
       " '8',\n",
       " '9',\n",
       " '10',\n",
       " '11',\n",
       " '12',\n",
       " '13',\n",
       " '14',\n",
       " '15',\n",
       " '16',\n",
       " '17',\n",
       " '18',\n",
       " '19',\n",
       " '20']"
      ]
     },
     "execution_count": 41,
     "metadata": {},
     "output_type": "execute_result"
    }
   ],
   "source": [
    "id_list = []\n",
    "waist_list = []\n",
    "hip_list = []\n",
    "gender_list = []\n",
    "shape_list = []\n",
    "\n",
    "for row in rows:\n",
    "    id_list.append(row[0])\n",
    "    waist_list.append(row[1])\n",
    "    hip_list.append(row[2])\n",
    "    gender_list.append(row[3])\n",
    "    \n",
    "id_list\n",
    "#waist_list\n",
    "#hip_list\n",
    "#gender_list"
   ]
  },
  {
   "cell_type": "code",
   "execution_count": 42,
   "metadata": {},
   "outputs": [
    {
     "data": {
      "text/plain": [
       "{'ID': ['1',\n",
       "  '2',\n",
       "  '3',\n",
       "  '4',\n",
       "  '5',\n",
       "  '6',\n",
       "  '7',\n",
       "  '8',\n",
       "  '9',\n",
       "  '10',\n",
       "  '11',\n",
       "  '12',\n",
       "  '13',\n",
       "  '14',\n",
       "  '15',\n",
       "  '16',\n",
       "  '17',\n",
       "  '18',\n",
       "  '19',\n",
       "  '20'],\n",
       " 'Waist': [30,\n",
       "  32,\n",
       "  30,\n",
       "  33,\n",
       "  29,\n",
       "  32,\n",
       "  33,\n",
       "  30,\n",
       "  30,\n",
       "  32,\n",
       "  24,\n",
       "  25,\n",
       "  24,\n",
       "  22,\n",
       "  26,\n",
       "  26,\n",
       "  25,\n",
       "  26,\n",
       "  28,\n",
       "  23],\n",
       " 'Hip': [32,\n",
       "  37,\n",
       "  36,\n",
       "  39,\n",
       "  33,\n",
       "  38,\n",
       "  42,\n",
       "  40,\n",
       "  37,\n",
       "  39,\n",
       "  35,\n",
       "  37,\n",
       "  37,\n",
       "  34,\n",
       "  38,\n",
       "  37,\n",
       "  38,\n",
       "  37,\n",
       "  40,\n",
       "  35],\n",
       " 'Gender': ['M',\n",
       "  'M',\n",
       "  'M',\n",
       "  'M',\n",
       "  'M',\n",
       "  'M',\n",
       "  'M',\n",
       "  'M',\n",
       "  'M',\n",
       "  'M',\n",
       "  'F',\n",
       "  'F',\n",
       "  'F',\n",
       "  'F',\n",
       "  'F',\n",
       "  'F',\n",
       "  'F',\n",
       "  'F',\n",
       "  'F',\n",
       "  'F']}"
      ]
     },
     "execution_count": 42,
     "metadata": {},
     "output_type": "execute_result"
    }
   ],
   "source": [
    "values =[id_list, waist_list, hip_list, gender_list]\n",
    "w2h_dict = dict(zip(keys, values))\n",
    "\n",
    "w2h_dict"
   ]
  },
  {
   "cell_type": "markdown",
   "metadata": {},
   "source": [
    "## Calculations"
   ]
  },
  {
   "cell_type": "code",
   "execution_count": 63,
   "metadata": {
    "collapsed": true
   },
   "outputs": [
    {
     "name": "stdout",
     "output_type": "stream",
     "text": [
      "['Apple']\n",
      "['Apple', 'Pear']\n",
      "['Apple', 'Pear', 'Pear']\n",
      "['Apple', 'Pear', 'Pear', 'Pear']\n",
      "['Apple', 'Pear', 'Pear', 'Pear', 'Pear']\n",
      "['Apple', 'Pear', 'Pear', 'Pear', 'Pear', 'Pear']\n",
      "['Apple', 'Pear', 'Pear', 'Pear', 'Pear', 'Pear', 'Pear']\n",
      "['Apple', 'Pear', 'Pear', 'Pear', 'Pear', 'Pear', 'Pear', 'Pear']\n",
      "['Apple', 'Pear', 'Pear', 'Pear', 'Pear', 'Pear', 'Pear', 'Pear', 'Pear']\n",
      "['Apple', 'Pear', 'Pear', 'Pear', 'Pear', 'Pear', 'Pear', 'Pear', 'Pear', 'Pear']\n",
      "['Apple', 'Pear', 'Pear', 'Pear', 'Pear', 'Pear', 'Pear', 'Pear', 'Pear', 'Pear', 'Pear']\n",
      "['Apple', 'Pear', 'Pear', 'Pear', 'Pear', 'Pear', 'Pear', 'Pear', 'Pear', 'Pear', 'Pear', 'Pear']\n",
      "['Apple', 'Pear', 'Pear', 'Pear', 'Pear', 'Pear', 'Pear', 'Pear', 'Pear', 'Pear', 'Pear', 'Pear', 'Pear']\n",
      "['Apple', 'Pear', 'Pear', 'Pear', 'Pear', 'Pear', 'Pear', 'Pear', 'Pear', 'Pear', 'Pear', 'Pear', 'Pear', 'Pear']\n",
      "['Apple', 'Pear', 'Pear', 'Pear', 'Pear', 'Pear', 'Pear', 'Pear', 'Pear', 'Pear', 'Pear', 'Pear', 'Pear', 'Pear', 'Pear']\n",
      "['Apple', 'Pear', 'Pear', 'Pear', 'Pear', 'Pear', 'Pear', 'Pear', 'Pear', 'Pear', 'Pear', 'Pear', 'Pear', 'Pear', 'Pear', 'Pear']\n",
      "['Apple', 'Pear', 'Pear', 'Pear', 'Pear', 'Pear', 'Pear', 'Pear', 'Pear', 'Pear', 'Pear', 'Pear', 'Pear', 'Pear', 'Pear', 'Pear', 'Pear']\n",
      "['Apple', 'Pear', 'Pear', 'Pear', 'Pear', 'Pear', 'Pear', 'Pear', 'Pear', 'Pear', 'Pear', 'Pear', 'Pear', 'Pear', 'Pear', 'Pear', 'Pear', 'Pear']\n",
      "['Apple', 'Pear', 'Pear', 'Pear', 'Pear', 'Pear', 'Pear', 'Pear', 'Pear', 'Pear', 'Pear', 'Pear', 'Pear', 'Pear', 'Pear', 'Pear', 'Pear', 'Pear', 'Pear']\n",
      "['Apple', 'Pear', 'Pear', 'Pear', 'Pear', 'Pear', 'Pear', 'Pear', 'Pear', 'Pear', 'Pear', 'Pear', 'Pear', 'Pear', 'Pear', 'Pear', 'Pear', 'Pear', 'Pear', 'Pear']\n"
     ]
    }
   ],
   "source": [
    "# Goal: For each row of data calculate and store the w2h_ratio and shape.\n",
    "\n",
    "# Adds columns for the two new variables\n",
    "#keys.extend([\"W2H Ratio\",\"Shape\"])\n",
    "\n",
    "ratio = [i / j for i, j in zip(waist_list, hip_list)]\n",
    "\n",
    "w2h_dict['W2H Ratio'] = ratio\n",
    "\n",
    "shape_list = []\n",
    "for i, j in zip(ratio, gender_list):\n",
    "    if ((j =='M' and i > 0.9) or (j == 'F' and i > 0.8)) :\n",
    "        shape = \"Apple\"\n",
    "        shape_list.append(shape)\n",
    "        #print(shape)\n",
    "    else:\n",
    "        shape = \"Pear\"\n",
    "        shape_list.append(shape)\n",
    "      \n",
    "    print(shape_list)\n",
    "\n",
    "\n",
    "    \n",
    "# For each row in the rows list, calculate the waist to hips ratio and shape\n",
    "#for row in rows[1:]:\n",
    "    # Calculate the w2h_ratio \n",
    "   # w2h_ratio = float(row[1])/float(row[2]) # CHECK THIS; compare whether you did this in part 1\n",
    "    \n",
    "    # in part 1 I did not convert the row[1] and row[2] to floats\n",
    "    \n",
    "    # Based on the ratio and the gender, set the variable shape to either 'apple' or 'pear'\n",
    "    #shape = 'Pear' # CHECK THIS; compare whether you did this in part 1\n",
    "    # in part 1 I had 4 if-elif-else statements and didn't use or or and\n",
    "  \n",
    "    \n",
    "    # Add the new data to the end of the row\n",
    "    #row += [w2h_ratio, shape] # note: += is shorthand for the extend method used above\n",
    "    #print(rows)\n",
    "    "
   ]
  },
  {
   "cell_type": "code",
   "execution_count": 70,
   "metadata": {},
   "outputs": [
    {
     "name": "stdout",
     "output_type": "stream",
     "text": [
      "{'ID': ['1', '2', '3', '4', '5', '6', '7', '8', '9', '10', '11', '12', '13', '14', '15', '16', '17', '18', '19', '20'], 'Waist': [30, 32, 30, 33, 29, 32, 33, 30, 30, 32, 24, 25, 24, 22, 26, 26, 25, 26, 28, 23], 'Hip': [32, 37, 36, 39, 33, 38, 42, 40, 37, 39, 35, 37, 37, 34, 38, 37, 38, 37, 40, 35], 'Gender': ['M', 'M', 'M', 'M', 'M', 'M', 'M', 'M', 'M', 'M', 'F', 'F', 'F', 'F', 'F', 'F', 'F', 'F', 'F', 'F'], 'W2H Ratio': [0.9375, 0.8648648648648649, 0.8333333333333334, 0.8461538461538461, 0.8787878787878788, 0.8421052631578947, 0.7857142857142857, 0.75, 0.8108108108108109, 0.8205128205128205, 0.6857142857142857, 0.6756756756756757, 0.6486486486486487, 0.6470588235294118, 0.6842105263157895, 0.7027027027027027, 0.6578947368421053, 0.7027027027027027, 0.7, 0.6571428571428571], 'Shape': ['Apple', 'Pear', 'Pear', 'Pear', 'Pear', 'Pear', 'Pear', 'Pear', 'Pear', 'Pear', 'Pear', 'Pear', 'Pear', 'Pear', 'Pear', 'Pear', 'Pear', 'Pear', 'Pear', 'Pear']}\n"
     ]
    }
   ],
   "source": [
    "w2h_dict['Shape'] = shape_list\n",
    "\n",
    "print(w2h_dict)"
   ]
  },
  {
   "cell_type": "code",
   "execution_count": 76,
   "metadata": {},
   "outputs": [
    {
     "ename": "AttributeError",
     "evalue": "'dict' object has no attribute 'transpose'",
     "output_type": "error",
     "traceback": [
      "\u001b[0;31m---------------------------------------------------------------------------\u001b[0m",
      "\u001b[0;31mAttributeError\u001b[0m                            Traceback (most recent call last)",
      "\u001b[0;32m<ipython-input-76-db77b018a4ea>\u001b[0m in \u001b[0;36m<module>\u001b[0;34m\u001b[0m\n\u001b[1;32m      1\u001b[0m \u001b[0;31m#w2h_dict['ID'][i]\u001b[0m\u001b[0;34m\u001b[0m\u001b[0;34m\u001b[0m\u001b[0;34m\u001b[0m\u001b[0m\n\u001b[1;32m      2\u001b[0m \u001b[0;34m\u001b[0m\u001b[0m\n\u001b[0;32m----> 3\u001b[0;31m \u001b[0mw2h_dict\u001b[0m\u001b[0;34m.\u001b[0m\u001b[0mtranspose\u001b[0m\u001b[0;34m(\u001b[0m\u001b[0;34m)\u001b[0m\u001b[0;34m\u001b[0m\u001b[0;34m\u001b[0m\u001b[0m\n\u001b[0m",
      "\u001b[0;31mAttributeError\u001b[0m: 'dict' object has no attribute 'transpose'"
     ]
    }
   ],
   "source": [
    "#w2h_dict['ID'][i]\n",
    "\n",
    "w2h_dict.transpose()"
   ]
  },
  {
   "cell_type": "markdown",
   "metadata": {},
   "source": [
    "## Output"
   ]
  },
  {
   "cell_type": "code",
   "execution_count": 71,
   "metadata": {
    "collapsed": false
   },
   "outputs": [
    {
     "ename": "AttributeError",
     "evalue": "'list' object has no attribute 'keys'",
     "output_type": "error",
     "traceback": [
      "\u001b[0;31m---------------------------------------------------------------------------\u001b[0m",
      "\u001b[0;31mAttributeError\u001b[0m                            Traceback (most recent call last)",
      "\u001b[0;32m<ipython-input-71-44d3bb83c16e>\u001b[0m in \u001b[0;36m<module>\u001b[0;34m\u001b[0m\n\u001b[1;32m      3\u001b[0m \u001b[0;31m# Note: this works, but we can do this much better with pandas\u001b[0m\u001b[0;34m\u001b[0m\u001b[0;34m\u001b[0m\u001b[0;34m\u001b[0m\u001b[0m\n\u001b[1;32m      4\u001b[0m \u001b[0mhtml_table\u001b[0m \u001b[0;34m=\u001b[0m \u001b[0;34m'<table><tr><th>'\u001b[0m\u001b[0;34m\u001b[0m\u001b[0;34m\u001b[0m\u001b[0m\n\u001b[0;32m----> 5\u001b[0;31m \u001b[0mhtml_table\u001b[0m \u001b[0;34m+=\u001b[0m \u001b[0;34m\"</th><th>\"\u001b[0m\u001b[0;34m.\u001b[0m\u001b[0mjoin\u001b[0m\u001b[0;34m(\u001b[0m\u001b[0mrows\u001b[0m\u001b[0;34m[\u001b[0m\u001b[0;36m0\u001b[0m\u001b[0;34m]\u001b[0m\u001b[0;34m.\u001b[0m\u001b[0mkeys\u001b[0m\u001b[0;34m(\u001b[0m\u001b[0;34m)\u001b[0m\u001b[0;34m)\u001b[0m\u001b[0;34m\u001b[0m\u001b[0;34m\u001b[0m\u001b[0m\n\u001b[0m\u001b[1;32m      6\u001b[0m \u001b[0mhtml_table\u001b[0m \u001b[0;34m+=\u001b[0m \u001b[0;34m'</th></tr>'\u001b[0m\u001b[0;34m\u001b[0m\u001b[0;34m\u001b[0m\u001b[0m\n\u001b[1;32m      7\u001b[0m \u001b[0;32mfor\u001b[0m \u001b[0mrow\u001b[0m \u001b[0;32min\u001b[0m \u001b[0mrows\u001b[0m\u001b[0;34m:\u001b[0m\u001b[0;34m\u001b[0m\u001b[0;34m\u001b[0m\u001b[0m\n",
      "\u001b[0;31mAttributeError\u001b[0m: 'list' object has no attribute 'keys'"
     ]
    }
   ],
   "source": [
    "# Goal: pretty print the rows as an HTML table\n",
    "\n",
    "# Note: this works, but we can do this much better with pandas\n",
    "html_table = '<table><tr><th>'\n",
    "html_table += \"</th><th>\".join(rows[0].keys())\n",
    "html_table += '</th></tr>'\n",
    "for row in rows:\n",
    "    html_table += \"<tr><td>\"\n",
    "    html_table += \"</td><td>\".join(str(v) for v in row.values())\n",
    "    html_table += \"</td></tr>\"\n",
    "html_table += \"</table>\"\n",
    "\n",
    "from IPython.display import HTML, display\n",
    "display(HTML(html_table))\n",
    "\n",
    "html_file = open('StatsResults.html', 'w')\n",
    "html_file.write(html_table)\n",
    "html_file.close()"
   ]
  },
  {
   "cell_type": "code",
   "execution_count": null,
   "metadata": {},
   "outputs": [],
   "source": []
  },
  {
   "cell_type": "code",
   "execution_count": null,
   "metadata": {
    "collapsed": true
   },
   "outputs": [],
   "source": []
  }
 ],
 "metadata": {
  "kernelspec": {
   "display_name": "Python 3",
   "language": "python",
   "name": "python3"
  },
  "language_info": {
   "codemirror_mode": {
    "name": "ipython",
    "version": 3
   },
   "file_extension": ".py",
   "mimetype": "text/x-python",
   "name": "python",
   "nbconvert_exporter": "python",
   "pygments_lexer": "ipython3",
   "version": "3.6.7"
  }
 },
 "nbformat": 4,
 "nbformat_minor": 2
}
